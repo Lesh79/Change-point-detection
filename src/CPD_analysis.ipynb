{
 "cells": [
  {
   "cell_type": "code",
   "execution_count": 25,
   "id": "initial_id",
   "metadata": {
    "collapsed": true,
    "ExecuteTime": {
     "end_time": "2024-03-09T19:32:26.827436500Z",
     "start_time": "2024-03-09T19:32:26.819026Z"
    }
   },
   "outputs": [],
   "source": [
    "import numpy as np\n",
    "import matplotlib.pyplot as plt\n",
    "from graph_based_cpd import Graph, CPD\n",
    "\n",
    "\n",
    "def custom_comparison1(node1, node2):\n",
    "    if abs(node1 - node2) <= 1:\n",
    "        return True\n",
    "    else:\n",
    "        return False"
   ]
  },
  {
   "cell_type": "code",
   "execution_count": 26,
   "outputs": [],
   "source": [
    "def generate_data():\n",
    "    normal_set1 = np.random.normal(loc=15, scale=5, size= 200)\n",
    "    normal_set2 = np.random.normal(loc=60, scale=10, size= 15)\n",
    "\n",
    "    uniform_set1 = np.random.uniform(low=-1, high=1, size= 300)\n",
    "    uniform_set2 = np.random.uniform(low=-5, high=5, size=300 )\n",
    "    \n",
    "    exponential_set = np.random.exponential(scale=1, size=150)\n",
    "    gamma_set = np.random.gamma(shape=2, scale=2, size=150)\n",
    "    lognormal_set = np.random.lognormal(mean=0, sigma=1, size=30)\n",
    "    binomial_set = np.random.binomial(n=10, p=0.5, size=150)\n",
    "    poisson_set = np.random.poisson(lam=5, size=150)\n",
    "    discrete_uniform_set = np.random.randint(low=1, high=10, size=150)\n",
    "\n",
    "\n",
    "    dataset = np.concatenate([lognormal_set, normal_set2], axis=0)\n",
    "\n",
    "    return dataset"
   ],
   "metadata": {
    "collapsed": false,
    "ExecuteTime": {
     "end_time": "2024-03-09T19:32:26.844965400Z",
     "start_time": "2024-03-09T19:32:26.832007800Z"
    }
   },
   "id": "27ee4fcdb118a1f4"
  },
  {
   "cell_type": "code",
   "execution_count": 27,
   "outputs": [],
   "source": [
    "def normal_data():\n",
    "    normal_max_z = []\n",
    "    for i in range(1, 10):\n",
    "        normal_datas = np.random.lognormal(mean=0, sigma=1, size=30)\n",
    "        normal_z = []\n",
    "        normal_graph = Graph(normal_datas, custom_comparison1, 1)\n",
    "        cpd1 = CPD(normal_graph)\n",
    "        for i in range(1, len(normal_datas)):\n",
    "            normal_z.append(cpd1.calculation_z(i))\n",
    "        normal_max_z.append(max(normal_z))\n",
    "    return normal_max_z\n",
    "\n",
    "\n",
    "def combination_data():\n",
    "    data_max_z = []\n",
    "    for i in range(1, 10):\n",
    "        data = generate_data()\n",
    "        data_z = []\n",
    "        graph = Graph(data, custom_comparison1,1)\n",
    "        cpd2 = CPD(graph)\n",
    "        for i in range(1, len(data)):\n",
    "            data_z.append(cpd2.calculation_z(i))\n",
    "        data_max_z.append(max(data_z))\n",
    "    return data_max_z"
   ],
   "metadata": {
    "collapsed": false,
    "ExecuteTime": {
     "end_time": "2024-03-09T19:32:26.845119200Z",
     "start_time": "2024-03-09T19:32:26.837303400Z"
    }
   },
   "id": "34722517222b73b6"
  },
  {
   "cell_type": "code",
   "execution_count": 28,
   "outputs": [
    {
     "data": {
      "text/plain": "<Figure size 640x480 with 1 Axes>",
      "image/png": "[encoded data removed]"
     },
     "metadata": {},
     "output_type": "display_data"
    }
   ],
   "source": [
    "plt.hist(normal_data(), bins=15, color = 'blue', alpha = 1)\n",
    "# plt.hist(combination_data(), bins=15, color = 'red', alpha = 1)\n",
    "plt.title('Null Hypothesis and Second Hypothesis')\n",
    "plt.grid(True)"
   ],
   "metadata": {
    "collapsed": false,
    "ExecuteTime": {
     "end_time": "2024-03-09T19:33:49.349532800Z",
     "start_time": "2024-03-09T19:32:26.842393600Z"
    }
   },
   "id": "cf21a28ef7b6d8af"
  }
 ],
 "metadata": {
  "kernelspec": {
   "display_name": "Python 3",
   "language": "python",
   "name": "python3"
  },
  "language_info": {
   "codemirror_mode": {
    "name": "ipython",
    "version": 2
   },
   "file_extension": ".py",
   "mimetype": "text/x-python",
   "name": "python",
   "nbconvert_exporter": "python",
   "pygments_lexer": "ipython2",
   "version": "2.7.6"
  }
 },
 "nbformat": 4,
 "nbformat_minor": 5
}
